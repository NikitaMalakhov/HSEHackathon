{
 "cells": [
  {
   "cell_type": "code",
   "execution_count": 2,
   "metadata": {
    "collapsed": true,
    "ExecuteTime": {
     "start_time": "2023-04-09T15:57:49.081482Z",
     "end_time": "2023-04-09T15:57:52.423230Z"
    }
   },
   "outputs": [],
   "source": [
    "import pandas as pd\n",
    "import sklearn"
   ]
  },
  {
   "cell_type": "code",
   "execution_count": 3,
   "outputs": [],
   "source": [
    "df = pd.read_csv('./train.csv')"
   ],
   "metadata": {
    "collapsed": false,
    "ExecuteTime": {
     "start_time": "2023-04-09T15:57:53.625285Z",
     "end_time": "2023-04-09T15:57:53.753085Z"
    }
   }
  },
  {
   "cell_type": "code",
   "execution_count": 3,
   "outputs": [],
   "source": [],
   "metadata": {
    "collapsed": false,
    "ExecuteTime": {
     "start_time": "2023-04-09T15:50:36.667602Z",
     "end_time": "2023-04-09T15:50:36.676068Z"
    }
   }
  },
  {
   "cell_type": "code",
   "execution_count": 4,
   "outputs": [
    {
     "data": {
      "text/plain": "       Unnamed: 0                                           sentence  \\\n0            4754       При этом всегда получал качественные услуги.   \n1            4417  Не вижу, за что хотя бы 2 поставить, сервис на 1!   \n2            3629       Вот так \"Мой любимый\" банк МКБ меня обманул.   \n3           11640               Отвратительное отношение к клиентам.   \n4            5571  Всегда в любое время дня и ночи помогут, ответ...   \n...           ...                                                ...   \n19356        8004  Никогда и ни в коем случае не открывайте счет ...   \n19357       18182  ТИ откровенно забили на качество и развивают с...   \n19358         744  Я считаю, это прорыв и лидерство финансовых ус...   \n19359        6220  Писал мужчина очень доходчиво, не финансовым я...   \n19360        8433  Данная ситуация меня сильно выбила из колеи, и...   \n\n           1category 2category sentiment  \n0      Communication       NaN         +  \n1                  ?       NaN         −  \n2                  ?       NaN         −  \n3      Communication       NaN         −  \n4      Communication       NaN         +  \n...              ...       ...       ...  \n19356  Communication       NaN         −  \n19357        Quality       NaN         −  \n19358              ?       NaN         +  \n19359  Communication       NaN         +  \n19360  Communication       NaN         −  \n\n[19361 rows x 5 columns]",
      "text/html": "<div>\n<style scoped>\n    .dataframe tbody tr th:only-of-type {\n        vertical-align: middle;\n    }\n\n    .dataframe tbody tr th {\n        vertical-align: top;\n    }\n\n    .dataframe thead th {\n        text-align: right;\n    }\n</style>\n<table border=\"1\" class=\"dataframe\">\n  <thead>\n    <tr style=\"text-align: right;\">\n      <th></th>\n      <th>Unnamed: 0</th>\n      <th>sentence</th>\n      <th>1category</th>\n      <th>2category</th>\n      <th>sentiment</th>\n    </tr>\n  </thead>\n  <tbody>\n    <tr>\n      <th>0</th>\n      <td>4754</td>\n      <td>При этом всегда получал качественные услуги.</td>\n      <td>Communication</td>\n      <td>NaN</td>\n      <td>+</td>\n    </tr>\n    <tr>\n      <th>1</th>\n      <td>4417</td>\n      <td>Не вижу, за что хотя бы 2 поставить, сервис на 1!</td>\n      <td>?</td>\n      <td>NaN</td>\n      <td>−</td>\n    </tr>\n    <tr>\n      <th>2</th>\n      <td>3629</td>\n      <td>Вот так \"Мой любимый\" банк МКБ меня обманул.</td>\n      <td>?</td>\n      <td>NaN</td>\n      <td>−</td>\n    </tr>\n    <tr>\n      <th>3</th>\n      <td>11640</td>\n      <td>Отвратительное отношение к клиентам.</td>\n      <td>Communication</td>\n      <td>NaN</td>\n      <td>−</td>\n    </tr>\n    <tr>\n      <th>4</th>\n      <td>5571</td>\n      <td>Всегда в любое время дня и ночи помогут, ответ...</td>\n      <td>Communication</td>\n      <td>NaN</td>\n      <td>+</td>\n    </tr>\n    <tr>\n      <th>...</th>\n      <td>...</td>\n      <td>...</td>\n      <td>...</td>\n      <td>...</td>\n      <td>...</td>\n    </tr>\n    <tr>\n      <th>19356</th>\n      <td>8004</td>\n      <td>Никогда и ни в коем случае не открывайте счет ...</td>\n      <td>Communication</td>\n      <td>NaN</td>\n      <td>−</td>\n    </tr>\n    <tr>\n      <th>19357</th>\n      <td>18182</td>\n      <td>ТИ откровенно забили на качество и развивают с...</td>\n      <td>Quality</td>\n      <td>NaN</td>\n      <td>−</td>\n    </tr>\n    <tr>\n      <th>19358</th>\n      <td>744</td>\n      <td>Я считаю, это прорыв и лидерство финансовых ус...</td>\n      <td>?</td>\n      <td>NaN</td>\n      <td>+</td>\n    </tr>\n    <tr>\n      <th>19359</th>\n      <td>6220</td>\n      <td>Писал мужчина очень доходчиво, не финансовым я...</td>\n      <td>Communication</td>\n      <td>NaN</td>\n      <td>+</td>\n    </tr>\n    <tr>\n      <th>19360</th>\n      <td>8433</td>\n      <td>Данная ситуация меня сильно выбила из колеи, и...</td>\n      <td>Communication</td>\n      <td>NaN</td>\n      <td>−</td>\n    </tr>\n  </tbody>\n</table>\n<p>19361 rows × 5 columns</p>\n</div>"
     },
     "execution_count": 4,
     "metadata": {},
     "output_type": "execute_result"
    }
   ],
   "source": [
    "df"
   ],
   "metadata": {
    "collapsed": false,
    "ExecuteTime": {
     "start_time": "2023-04-09T15:50:36.889271Z",
     "end_time": "2023-04-09T15:50:36.923601Z"
    }
   }
  },
  {
   "cell_type": "code",
   "execution_count": 4,
   "outputs": [],
   "source": [
    "def normalize_out(a, b, c):\n",
    "    s = (a + b + c)\n",
    "    if s > 1 or s == 0:\n",
    "        return 'err'\n",
    "    if a == 1:\n",
    "        return '+'\n",
    "    if b == 1:\n",
    "        return '?'\n",
    "    if c == 1:\n",
    "        return '-'"
   ],
   "metadata": {
    "collapsed": false,
    "ExecuteTime": {
     "start_time": "2023-04-09T15:57:56.362130Z",
     "end_time": "2023-04-09T15:57:56.369641Z"
    }
   }
  },
  {
   "cell_type": "code",
   "execution_count": 5,
   "outputs": [],
   "source": [
    "df = pd.read_csv('./train_clean.csv')"
   ],
   "metadata": {
    "collapsed": false,
    "ExecuteTime": {
     "start_time": "2023-04-09T15:57:57.973214Z",
     "end_time": "2023-04-09T15:57:58.079609Z"
    }
   }
  },
  {
   "cell_type": "code",
   "execution_count": 7,
   "outputs": [
    {
     "data": {
      "text/plain": "                                                sentence sentiment  0  1  2\n0           При этом всегда получал качественные услуги.         +  1  0  0\n1      Не вижу, за что хотя бы 2 поставить, сервис на 1!         −  0  0  1\n2           Вот так \"Мой любимый\" банк МКБ меня обманул.         −  0  0  1\n3                   Отвратительное отношение к клиентам.         −  0  0  1\n4      Всегда в любое время дня и ночи помогут, ответ...         +  1  0  0\n...                                                  ...       ... .. .. ..\n19356  Никогда и ни в коем случае не открывайте счет ...         −  0  0  1\n19357  ТИ откровенно забили на качество и развивают с...         −  0  0  1\n19358  Я считаю, это прорыв и лидерство финансовых ус...         +  1  0  0\n19359  Писал мужчина очень доходчиво, не финансовым я...         +  1  0  0\n19360  Данная ситуация меня сильно выбила из колеи, и...         −  0  0  1\n\n[19361 rows x 5 columns]",
      "text/html": "<div>\n<style scoped>\n    .dataframe tbody tr th:only-of-type {\n        vertical-align: middle;\n    }\n\n    .dataframe tbody tr th {\n        vertical-align: top;\n    }\n\n    .dataframe thead th {\n        text-align: right;\n    }\n</style>\n<table border=\"1\" class=\"dataframe\">\n  <thead>\n    <tr style=\"text-align: right;\">\n      <th></th>\n      <th>sentence</th>\n      <th>sentiment</th>\n      <th>0</th>\n      <th>1</th>\n      <th>2</th>\n    </tr>\n  </thead>\n  <tbody>\n    <tr>\n      <th>0</th>\n      <td>При этом всегда получал качественные услуги.</td>\n      <td>+</td>\n      <td>1</td>\n      <td>0</td>\n      <td>0</td>\n    </tr>\n    <tr>\n      <th>1</th>\n      <td>Не вижу, за что хотя бы 2 поставить, сервис на 1!</td>\n      <td>−</td>\n      <td>0</td>\n      <td>0</td>\n      <td>1</td>\n    </tr>\n    <tr>\n      <th>2</th>\n      <td>Вот так \"Мой любимый\" банк МКБ меня обманул.</td>\n      <td>−</td>\n      <td>0</td>\n      <td>0</td>\n      <td>1</td>\n    </tr>\n    <tr>\n      <th>3</th>\n      <td>Отвратительное отношение к клиентам.</td>\n      <td>−</td>\n      <td>0</td>\n      <td>0</td>\n      <td>1</td>\n    </tr>\n    <tr>\n      <th>4</th>\n      <td>Всегда в любое время дня и ночи помогут, ответ...</td>\n      <td>+</td>\n      <td>1</td>\n      <td>0</td>\n      <td>0</td>\n    </tr>\n    <tr>\n      <th>...</th>\n      <td>...</td>\n      <td>...</td>\n      <td>...</td>\n      <td>...</td>\n      <td>...</td>\n    </tr>\n    <tr>\n      <th>19356</th>\n      <td>Никогда и ни в коем случае не открывайте счет ...</td>\n      <td>−</td>\n      <td>0</td>\n      <td>0</td>\n      <td>1</td>\n    </tr>\n    <tr>\n      <th>19357</th>\n      <td>ТИ откровенно забили на качество и развивают с...</td>\n      <td>−</td>\n      <td>0</td>\n      <td>0</td>\n      <td>1</td>\n    </tr>\n    <tr>\n      <th>19358</th>\n      <td>Я считаю, это прорыв и лидерство финансовых ус...</td>\n      <td>+</td>\n      <td>1</td>\n      <td>0</td>\n      <td>0</td>\n    </tr>\n    <tr>\n      <th>19359</th>\n      <td>Писал мужчина очень доходчиво, не финансовым я...</td>\n      <td>+</td>\n      <td>1</td>\n      <td>0</td>\n      <td>0</td>\n    </tr>\n    <tr>\n      <th>19360</th>\n      <td>Данная ситуация меня сильно выбила из колеи, и...</td>\n      <td>−</td>\n      <td>0</td>\n      <td>0</td>\n      <td>1</td>\n    </tr>\n  </tbody>\n</table>\n<p>19361 rows × 5 columns</p>\n</div>"
     },
     "execution_count": 7,
     "metadata": {},
     "output_type": "execute_result"
    }
   ],
   "source": [
    "df"
   ],
   "metadata": {
    "collapsed": false,
    "ExecuteTime": {
     "start_time": "2023-04-09T15:50:46.387370Z",
     "end_time": "2023-04-09T15:50:46.411685Z"
    }
   }
  },
  {
   "cell_type": "code",
   "execution_count": 8,
   "outputs": [
    {
     "data": {
      "text/plain": "                                            sentence sentiment  0  1  2\n0       При этом всегда получал качественные услуги.         +  1  0  0\n1  Не вижу, за что хотя бы 2 поставить, сервис на 1!         −  0  0  1\n2       Вот так \"Мой любимый\" банк МКБ меня обманул.         −  0  0  1\n3               Отвратительное отношение к клиентам.         −  0  0  1\n4  Всегда в любое время дня и ночи помогут, ответ...         +  1  0  0",
      "text/html": "<div>\n<style scoped>\n    .dataframe tbody tr th:only-of-type {\n        vertical-align: middle;\n    }\n\n    .dataframe tbody tr th {\n        vertical-align: top;\n    }\n\n    .dataframe thead th {\n        text-align: right;\n    }\n</style>\n<table border=\"1\" class=\"dataframe\">\n  <thead>\n    <tr style=\"text-align: right;\">\n      <th></th>\n      <th>sentence</th>\n      <th>sentiment</th>\n      <th>0</th>\n      <th>1</th>\n      <th>2</th>\n    </tr>\n  </thead>\n  <tbody>\n    <tr>\n      <th>0</th>\n      <td>При этом всегда получал качественные услуги.</td>\n      <td>+</td>\n      <td>1</td>\n      <td>0</td>\n      <td>0</td>\n    </tr>\n    <tr>\n      <th>1</th>\n      <td>Не вижу, за что хотя бы 2 поставить, сервис на 1!</td>\n      <td>−</td>\n      <td>0</td>\n      <td>0</td>\n      <td>1</td>\n    </tr>\n    <tr>\n      <th>2</th>\n      <td>Вот так \"Мой любимый\" банк МКБ меня обманул.</td>\n      <td>−</td>\n      <td>0</td>\n      <td>0</td>\n      <td>1</td>\n    </tr>\n    <tr>\n      <th>3</th>\n      <td>Отвратительное отношение к клиентам.</td>\n      <td>−</td>\n      <td>0</td>\n      <td>0</td>\n      <td>1</td>\n    </tr>\n    <tr>\n      <th>4</th>\n      <td>Всегда в любое время дня и ночи помогут, ответ...</td>\n      <td>+</td>\n      <td>1</td>\n      <td>0</td>\n      <td>0</td>\n    </tr>\n  </tbody>\n</table>\n</div>"
     },
     "execution_count": 8,
     "metadata": {},
     "output_type": "execute_result"
    }
   ],
   "source": [
    "df.head()"
   ],
   "metadata": {
    "collapsed": false,
    "ExecuteTime": {
     "start_time": "2023-04-09T15:50:48.617797Z",
     "end_time": "2023-04-09T15:50:48.622363Z"
    }
   }
  },
  {
   "cell_type": "code",
   "execution_count": 8,
   "outputs": [],
   "source": [],
   "metadata": {
    "collapsed": false,
    "ExecuteTime": {
     "start_time": "2023-04-09T15:50:51.086870Z",
     "end_time": "2023-04-09T15:50:51.095982Z"
    }
   }
  },
  {
   "cell_type": "code",
   "execution_count": null,
   "outputs": [],
   "source": [
    "import spacy\n",
    "from spacy.lang.ru.examples import sentences#%%\n",
    "import pandas as pd"
   ],
   "metadata": {
    "collapsed": false
   }
  },
  {
   "cell_type": "code",
   "execution_count": 9,
   "outputs": [],
   "source": [
    "df = pd.read_csv('./train.csv')"
   ],
   "metadata": {
    "collapsed": false,
    "ExecuteTime": {
     "start_time": "2023-04-09T15:50:54.092807Z",
     "end_time": "2023-04-09T15:50:54.215335Z"
    }
   }
  },
  {
   "cell_type": "code",
   "execution_count": null,
   "outputs": [],
   "source": [
    "df"
   ],
   "metadata": {
    "collapsed": false
   }
  },
  {
   "cell_type": "code",
   "execution_count": null,
   "outputs": [],
   "source": [
    "def normalize_out(a, b, c):\n",
    "    s = (a + b + c)\n",
    "    if s > 1 or s == 0:\n",
    "        return 'err'\n",
    "    if a == 1:\n",
    "        return '+'\n",
    "    if b == 1:\n",
    "        return '?'\n",
    "    if c == 1:\n",
    "        return '-'"
   ],
   "metadata": {
    "collapsed": false
   }
  },
  {
   "cell_type": "code",
   "execution_count": 6,
   "outputs": [],
   "source": [
    "df = pd.read_csv('./train_clean.csv')"
   ],
   "metadata": {
    "collapsed": false,
    "ExecuteTime": {
     "start_time": "2023-04-09T15:59:31.378227Z",
     "end_time": "2023-04-09T15:59:31.517926Z"
    }
   }
  },
  {
   "cell_type": "code",
   "execution_count": null,
   "outputs": [],
   "source": [
    "df"
   ],
   "metadata": {
    "collapsed": false
   }
  },
  {
   "cell_type": "code",
   "execution_count": null,
   "outputs": [],
   "source": [
    "df.head()"
   ],
   "metadata": {
    "collapsed": false
   }
  },
  {
   "cell_type": "code",
   "execution_count": null,
   "outputs": [],
   "source": [],
   "metadata": {
    "collapsed": false
   }
  },
  {
   "cell_type": "code",
   "execution_count": 7,
   "outputs": [],
   "source": [
    "import nltk\n",
    "from nltk.corpus import stopwords\n",
    "from nltk import SnowballStemmer\n",
    "from nltk.tokenize import word_tokenize\n",
    "import string\n",
    "RU_LANG = 'russian'"
   ],
   "metadata": {
    "collapsed": false,
    "ExecuteTime": {
     "start_time": "2023-04-09T15:59:33.314871Z",
     "end_time": "2023-04-09T15:59:34.783521Z"
    }
   }
  },
  {
   "cell_type": "code",
   "execution_count": 8,
   "outputs": [
    {
     "name": "stderr",
     "output_type": "stream",
     "text": [
      "[nltk_data] Downloading package punkt to /Users/nikita/nltk_data...\n",
      "[nltk_data]   Package punkt is already up-to-date!\n",
      "[nltk_data] Downloading package stopwords to\n",
      "[nltk_data]     /Users/nikita/nltk_data...\n",
      "[nltk_data]   Package stopwords is already up-to-date!\n"
     ]
    },
    {
     "data": {
      "text/plain": "True"
     },
     "execution_count": 8,
     "metadata": {},
     "output_type": "execute_result"
    }
   ],
   "source": [
    "nltk.download('punkt')\n",
    "nltk.download('stopwords')"
   ],
   "metadata": {
    "collapsed": false,
    "ExecuteTime": {
     "start_time": "2023-04-09T15:59:34.787365Z",
     "end_time": "2023-04-09T15:59:36.103376Z"
    }
   }
  },
  {
   "cell_type": "code",
   "execution_count": 54,
   "outputs": [],
   "source": [],
   "metadata": {
    "collapsed": false,
    "ExecuteTime": {
     "start_time": "2023-04-08T14:04:54.591628Z",
     "end_time": "2023-04-08T14:04:54.598782Z"
    }
   }
  },
  {
   "cell_type": "code",
   "execution_count": 60,
   "outputs": [
    {
     "name": "stdout",
     "output_type": "stream",
     "text": [
      "['получал', 'качественные', 'услуги']\n",
      "['вижу', 'хотя', '2', 'поставить', 'сервис', '1']\n",
      "['``', 'любимый', \"''\", 'банк', 'мкб', 'обманул']\n",
      "['отвратительное', 'отношение', 'клиентам']\n",
      "['любое', 'время', 'дня', 'ночи', 'помогут', 'ответят', 'решат']\n"
     ]
    }
   ],
   "source": [
    "for sentence in df['sentence'][0:5]:\n",
    "    low = sentence.lower()\n",
    "    tokens = word_tokenize(low, language=RU_LANG)\n",
    "    expression_tokens_without_helpers = [token for token in tokens if (token not in unuseful_words) and (token not in string.punctuation)]\n",
    "    stemmed_tokens = [snowball_stemmer.stem(i) for i in expression_tokens_without_helpers]\n",
    "\n",
    "    print(expression_tokens_without_helpers)"
   ],
   "metadata": {
    "collapsed": false,
    "ExecuteTime": {
     "start_time": "2023-04-08T14:06:08.377139Z",
     "end_time": "2023-04-08T14:06:08.389678Z"
    }
   }
  },
  {
   "cell_type": "code",
   "execution_count": 13,
   "outputs": [],
   "source": [
    "import nltk\n",
    "from nltk.corpus import stopwords\n",
    "from nltk import SnowballStemmer\n",
    "from nltk.tokenize import word_tokenize\n",
    "import string\n",
    "from typing import List\n",
    "RU_LANG = 'russian'\n",
    "\n",
    "class CustomTokenizer:\n",
    "    def __init__(self, lang:str ='russian'):\n",
    "        self.LANG = lang\n",
    "        self.snowball_instance = nltk.SnowballStemmer(language='russian')\n",
    "\n",
    "    def tokenize(self, _sentence: str, use_snowballing: bool = False) -> List[str]:\n",
    "        _expression_tokens_without_helpers = [token for token in word_tokenize(_sentence.lower(), language=self.LANG) if (token not in unuseful_words) and (token not in string.punctuation)]\n",
    "        if use_snowballing:\n",
    "            _expression_tokens_without_helpers = [self.snowball_instance.stem(i) for i in _expression_tokens_without_helpers]\n",
    "\n",
    "        return _expression_tokens_without_helpers\n",
    "\n",
    "def tokenize_and_normalize(expression: str, snowball_instance: SnowballStemmer):\n",
    "    if not snowball_instance:\n",
    "        snowball_instance = SnowballStemmer(language='russian')\n",
    "    return []\n"
   ],
   "metadata": {
    "collapsed": false,
    "ExecuteTime": {
     "start_time": "2023-04-09T15:52:34.087060Z",
     "end_time": "2023-04-09T15:52:34.098175Z"
    }
   }
  },
  {
   "cell_type": "code",
   "execution_count": 14,
   "outputs": [
    {
     "ename": "NameError",
     "evalue": "name 'unuseful_words' is not defined",
     "output_type": "error",
     "traceback": [
      "\u001B[0;31m---------------------------------------------------------------------------\u001B[0m",
      "\u001B[0;31mNameError\u001B[0m                                 Traceback (most recent call last)",
      "Cell \u001B[0;32mIn [14], line 3\u001B[0m\n\u001B[1;32m      1\u001B[0m tk \u001B[38;5;241m=\u001B[39m CustomTokenizer(\u001B[38;5;124m'\u001B[39m\u001B[38;5;124mrussian\u001B[39m\u001B[38;5;124m'\u001B[39m)\n\u001B[0;32m----> 3\u001B[0m \u001B[43mtk\u001B[49m\u001B[38;5;241;43m.\u001B[39;49m\u001B[43mtokenize\u001B[49m\u001B[43m(\u001B[49m\u001B[38;5;124;43m\"\u001B[39;49m\u001B[38;5;124;43mАльфа банк очень плохой банк!\u001B[39;49m\u001B[38;5;124;43m\"\u001B[39;49m\u001B[43m,\u001B[49m\u001B[43m \u001B[49m\u001B[43muse_snowballing\u001B[49m\u001B[38;5;241;43m=\u001B[39;49m\u001B[38;5;28;43;01mFalse\u001B[39;49;00m\u001B[43m)\u001B[49m\n",
      "Cell \u001B[0;32mIn [13], line 15\u001B[0m, in \u001B[0;36mCustomTokenizer.tokenize\u001B[0;34m(self, _sentence, use_snowballing)\u001B[0m\n\u001B[1;32m     14\u001B[0m \u001B[38;5;28;01mdef\u001B[39;00m \u001B[38;5;21mtokenize\u001B[39m(\u001B[38;5;28mself\u001B[39m, _sentence: \u001B[38;5;28mstr\u001B[39m, use_snowballing: \u001B[38;5;28mbool\u001B[39m \u001B[38;5;241m=\u001B[39m \u001B[38;5;28;01mFalse\u001B[39;00m) \u001B[38;5;241m-\u001B[39m\u001B[38;5;241m>\u001B[39m List[\u001B[38;5;28mstr\u001B[39m]:\n\u001B[0;32m---> 15\u001B[0m     _expression_tokens_without_helpers \u001B[38;5;241m=\u001B[39m [token \u001B[38;5;28;01mfor\u001B[39;00m token \u001B[38;5;129;01min\u001B[39;00m word_tokenize(_sentence\u001B[38;5;241m.\u001B[39mlower(), language\u001B[38;5;241m=\u001B[39m\u001B[38;5;28mself\u001B[39m\u001B[38;5;241m.\u001B[39mLANG) \u001B[38;5;28;01mif\u001B[39;00m (token \u001B[38;5;129;01mnot\u001B[39;00m \u001B[38;5;129;01min\u001B[39;00m unuseful_words) \u001B[38;5;129;01mand\u001B[39;00m (token \u001B[38;5;129;01mnot\u001B[39;00m \u001B[38;5;129;01min\u001B[39;00m string\u001B[38;5;241m.\u001B[39mpunctuation)]\n\u001B[1;32m     16\u001B[0m     \u001B[38;5;28;01mif\u001B[39;00m use_snowballing:\n\u001B[1;32m     17\u001B[0m         _expression_tokens_without_helpers \u001B[38;5;241m=\u001B[39m [\u001B[38;5;28mself\u001B[39m\u001B[38;5;241m.\u001B[39msnowball_instance\u001B[38;5;241m.\u001B[39mstem(i) \u001B[38;5;28;01mfor\u001B[39;00m i \u001B[38;5;129;01min\u001B[39;00m _expression_tokens_without_helpers]\n",
      "Cell \u001B[0;32mIn [13], line 15\u001B[0m, in \u001B[0;36m<listcomp>\u001B[0;34m(.0)\u001B[0m\n\u001B[1;32m     14\u001B[0m \u001B[38;5;28;01mdef\u001B[39;00m \u001B[38;5;21mtokenize\u001B[39m(\u001B[38;5;28mself\u001B[39m, _sentence: \u001B[38;5;28mstr\u001B[39m, use_snowballing: \u001B[38;5;28mbool\u001B[39m \u001B[38;5;241m=\u001B[39m \u001B[38;5;28;01mFalse\u001B[39;00m) \u001B[38;5;241m-\u001B[39m\u001B[38;5;241m>\u001B[39m List[\u001B[38;5;28mstr\u001B[39m]:\n\u001B[0;32m---> 15\u001B[0m     _expression_tokens_without_helpers \u001B[38;5;241m=\u001B[39m [token \u001B[38;5;28;01mfor\u001B[39;00m token \u001B[38;5;129;01min\u001B[39;00m word_tokenize(_sentence\u001B[38;5;241m.\u001B[39mlower(), language\u001B[38;5;241m=\u001B[39m\u001B[38;5;28mself\u001B[39m\u001B[38;5;241m.\u001B[39mLANG) \u001B[38;5;28;01mif\u001B[39;00m (token \u001B[38;5;129;01mnot\u001B[39;00m \u001B[38;5;129;01min\u001B[39;00m \u001B[43munuseful_words\u001B[49m) \u001B[38;5;129;01mand\u001B[39;00m (token \u001B[38;5;129;01mnot\u001B[39;00m \u001B[38;5;129;01min\u001B[39;00m string\u001B[38;5;241m.\u001B[39mpunctuation)]\n\u001B[1;32m     16\u001B[0m     \u001B[38;5;28;01mif\u001B[39;00m use_snowballing:\n\u001B[1;32m     17\u001B[0m         _expression_tokens_without_helpers \u001B[38;5;241m=\u001B[39m [\u001B[38;5;28mself\u001B[39m\u001B[38;5;241m.\u001B[39msnowball_instance\u001B[38;5;241m.\u001B[39mstem(i) \u001B[38;5;28;01mfor\u001B[39;00m i \u001B[38;5;129;01min\u001B[39;00m _expression_tokens_without_helpers]\n",
      "\u001B[0;31mNameError\u001B[0m: name 'unuseful_words' is not defined"
     ]
    }
   ],
   "source": [
    "tk = CustomTokenizer('russian')\n",
    "\n",
    "tk.tokenize(\"Альфа банк очень плохой банк!\", use_snowballing=False)"
   ],
   "metadata": {
    "collapsed": false,
    "ExecuteTime": {
     "start_time": "2023-04-08T14:29:25.649521Z",
     "end_time": "2023-04-08T14:29:25.657848Z"
    }
   }
  },
  {
   "cell_type": "code",
   "execution_count": 28,
   "outputs": [
    {
     "ename": "OSError",
     "evalue": "[E050] Can't find model 'ru_core_news_sm'. It doesn't seem to be a Python package or a valid path to a data directory.",
     "output_type": "error",
     "traceback": [
      "\u001B[0;31m---------------------------------------------------------------------------\u001B[0m",
      "\u001B[0;31mOSError\u001B[0m                                   Traceback (most recent call last)",
      "\u001B[0;32m/var/folders/6v/98b48yrd1h10k9v608dk742h0000gn/T/ipykernel_1099/1578389442.py\u001B[0m in \u001B[0;36m<module>\u001B[0;34m\u001B[0m\n\u001B[0;32m----> 1\u001B[0;31m \u001B[0mnlp\u001B[0m \u001B[0;34m=\u001B[0m \u001B[0mspacy\u001B[0m\u001B[0;34m.\u001B[0m\u001B[0mload\u001B[0m\u001B[0;34m(\u001B[0m\u001B[0;34m\"ru_core_news_sm\"\u001B[0m\u001B[0;34m)\u001B[0m\u001B[0;34m\u001B[0m\u001B[0;34m\u001B[0m\u001B[0m\n\u001B[0m",
      "\u001B[0;32m~/opt/anaconda3/lib/python3.9/site-packages/spacy/__init__.py\u001B[0m in \u001B[0;36mload\u001B[0;34m(name, vocab, disable, exclude, config)\u001B[0m\n\u001B[1;32m     49\u001B[0m     \u001B[0mRETURNS\u001B[0m \u001B[0;34m(\u001B[0m\u001B[0mLanguage\u001B[0m\u001B[0;34m)\u001B[0m\u001B[0;34m:\u001B[0m \u001B[0mThe\u001B[0m \u001B[0mloaded\u001B[0m \u001B[0mnlp\u001B[0m \u001B[0mobject\u001B[0m\u001B[0;34m.\u001B[0m\u001B[0;34m\u001B[0m\u001B[0;34m\u001B[0m\u001B[0m\n\u001B[1;32m     50\u001B[0m     \"\"\"\n\u001B[0;32m---> 51\u001B[0;31m     return util.load_model(\n\u001B[0m\u001B[1;32m     52\u001B[0m         \u001B[0mname\u001B[0m\u001B[0;34m,\u001B[0m \u001B[0mvocab\u001B[0m\u001B[0;34m=\u001B[0m\u001B[0mvocab\u001B[0m\u001B[0;34m,\u001B[0m \u001B[0mdisable\u001B[0m\u001B[0;34m=\u001B[0m\u001B[0mdisable\u001B[0m\u001B[0;34m,\u001B[0m \u001B[0mexclude\u001B[0m\u001B[0;34m=\u001B[0m\u001B[0mexclude\u001B[0m\u001B[0;34m,\u001B[0m \u001B[0mconfig\u001B[0m\u001B[0;34m=\u001B[0m\u001B[0mconfig\u001B[0m\u001B[0;34m\u001B[0m\u001B[0;34m\u001B[0m\u001B[0m\n\u001B[1;32m     53\u001B[0m     )\n",
      "\u001B[0;32m~/opt/anaconda3/lib/python3.9/site-packages/spacy/util.py\u001B[0m in \u001B[0;36mload_model\u001B[0;34m(name, vocab, disable, exclude, config)\u001B[0m\n\u001B[1;32m    425\u001B[0m     \u001B[0;32mif\u001B[0m \u001B[0mname\u001B[0m \u001B[0;32min\u001B[0m \u001B[0mOLD_MODEL_SHORTCUTS\u001B[0m\u001B[0;34m:\u001B[0m\u001B[0;34m\u001B[0m\u001B[0;34m\u001B[0m\u001B[0m\n\u001B[1;32m    426\u001B[0m         \u001B[0;32mraise\u001B[0m \u001B[0mIOError\u001B[0m\u001B[0;34m(\u001B[0m\u001B[0mErrors\u001B[0m\u001B[0;34m.\u001B[0m\u001B[0mE941\u001B[0m\u001B[0;34m.\u001B[0m\u001B[0mformat\u001B[0m\u001B[0;34m(\u001B[0m\u001B[0mname\u001B[0m\u001B[0;34m=\u001B[0m\u001B[0mname\u001B[0m\u001B[0;34m,\u001B[0m \u001B[0mfull\u001B[0m\u001B[0;34m=\u001B[0m\u001B[0mOLD_MODEL_SHORTCUTS\u001B[0m\u001B[0;34m[\u001B[0m\u001B[0mname\u001B[0m\u001B[0;34m]\u001B[0m\u001B[0;34m)\u001B[0m\u001B[0;34m)\u001B[0m  \u001B[0;31m# type: ignore[index]\u001B[0m\u001B[0;34m\u001B[0m\u001B[0;34m\u001B[0m\u001B[0m\n\u001B[0;32m--> 427\u001B[0;31m     \u001B[0;32mraise\u001B[0m \u001B[0mIOError\u001B[0m\u001B[0;34m(\u001B[0m\u001B[0mErrors\u001B[0m\u001B[0;34m.\u001B[0m\u001B[0mE050\u001B[0m\u001B[0;34m.\u001B[0m\u001B[0mformat\u001B[0m\u001B[0;34m(\u001B[0m\u001B[0mname\u001B[0m\u001B[0;34m=\u001B[0m\u001B[0mname\u001B[0m\u001B[0;34m)\u001B[0m\u001B[0;34m)\u001B[0m\u001B[0;34m\u001B[0m\u001B[0;34m\u001B[0m\u001B[0m\n\u001B[0m\u001B[1;32m    428\u001B[0m \u001B[0;34m\u001B[0m\u001B[0m\n\u001B[1;32m    429\u001B[0m \u001B[0;34m\u001B[0m\u001B[0m\n",
      "\u001B[0;31mOSError\u001B[0m: [E050] Can't find model 'ru_core_news_sm'. It doesn't seem to be a Python package or a valid path to a data directory."
     ]
    }
   ],
   "source": [
    "nlp = spacy.load(\"ru_core_news_sm\")"
   ],
   "metadata": {
    "collapsed": false
   }
  },
  {
   "cell_type": "code",
   "execution_count": 72,
   "outputs": [],
   "source": [],
   "metadata": {
    "collapsed": false,
    "ExecuteTime": {
     "start_time": "2023-04-08T14:51:30.244027Z",
     "end_time": "2023-04-08T14:51:30.279582Z"
    }
   }
  },
  {
   "cell_type": "code",
   "execution_count": 96,
   "outputs": [],
   "source": [],
   "metadata": {
    "collapsed": false,
    "ExecuteTime": {
     "start_time": "2023-04-08T15:24:10.330563Z",
     "end_time": "2023-04-08T15:24:10.339760Z"
    }
   }
  },
  {
   "cell_type": "code",
   "execution_count": 9,
   "outputs": [],
   "source": [
    "import nltk\n",
    "from nltk.corpus import stopwords\n",
    "from nltk import SnowballStemmer\n",
    "from nltk.tokenize import word_tokenize\n",
    "import string\n",
    "from typing import List\n",
    "RU_LANG = 'russian'\n",
    "import re\n",
    "banks_df = pd.read_csv('./bankiru.csv')\n",
    "banks = []\n",
    "for bank in banks_df['Банк']:\n",
    "    lower = bank.lower()\n",
    "    chars = ['«', '»', '\"', \"'\", '(', ')']\n",
    "    for char in chars:\n",
    "        lower = lower.replace(char, \"\")\n",
    "\n",
    "    k = [x for x in re.split(',| |_|-|!',lower) if x != 'банк']\n",
    "    for u in k:\n",
    "        banks.append(u)\n",
    "banks += ['банк']\n",
    "snowball_stemmer = SnowballStemmer(language=RU_LANG)\n",
    "\n",
    "unuseful_words = stopwords.words(RU_LANG)\n",
    "\n",
    "class CustomTokenizer():\n",
    "    def __init__(self, lang:str ='russian'):\n",
    "        self.LANG = lang\n",
    "        self.snowball_instance = nltk.SnowballStemmer(language='russian')\n",
    "\n",
    "    def tokenize(self, _sentence: str, use_snowballing: bool = False) -> List[str]:\n",
    "        #_expression_tokens_without_helpers = [token for token in word_tokenize(_sentence.lower(), language=self.LANG) if (token not in unuseful_words) and (token not in string.punctuation) and (token not in banks)]\n",
    "        _expression_tokens_without_helpers = [token for token in word_tokenize(_sentence.lower(), language=self.LANG) if (token not in string.punctuation)]\n",
    "        if use_snowballing:\n",
    "            _expression_tokens_without_helpers = [self.snowball_instance.stem(i) for i in _expression_tokens_without_helpers]\n",
    "\n",
    "        return _expression_tokens_without_helpers"
   ],
   "metadata": {
    "collapsed": false,
    "ExecuteTime": {
     "start_time": "2023-04-09T15:59:41.004079Z",
     "end_time": "2023-04-09T15:59:41.021892Z"
    }
   }
  },
  {
   "cell_type": "code",
   "execution_count": 105,
   "outputs": [],
   "source": [],
   "metadata": {
    "collapsed": false,
    "ExecuteTime": {
     "start_time": "2023-04-08T15:25:36.194355Z",
     "end_time": "2023-04-08T15:25:36.203855Z"
    }
   }
  },
  {
   "cell_type": "code",
   "execution_count": 10,
   "outputs": [
    {
     "data": {
      "text/plain": "['``', 'мерси', 'за', 'прием', 'улучшайте', 'дороги', \"''\"]"
     },
     "execution_count": 10,
     "metadata": {},
     "output_type": "execute_result"
    }
   ],
   "source": [
    "tk = CustomTokenizer()\n",
    "\n",
    "tk.tokenize(df['sentence'][14160])\n",
    "\n",
    "# df[df['sentence'].str.contains('луч')]\n",
    "\n",
    "#\n",
    "# for c in unuseful_words:\n",
    "#     if c.startswith('хо'):\n",
    "#         print(c)\n"
   ],
   "metadata": {
    "collapsed": false,
    "ExecuteTime": {
     "start_time": "2023-04-09T15:59:45.439573Z",
     "end_time": "2023-04-09T15:59:45.479049Z"
    }
   }
  },
  {
   "cell_type": "code",
   "execution_count": 11,
   "outputs": [],
   "source": [
    "from sklearn.metrics import accuracy_score\n",
    "from sklearn.ensemble import RandomForestClassifier\n",
    "from sklearn.linear_model import LogisticRegression\n",
    "from sklearn.feature_extraction.text import TfidfVectorizer\n",
    "from sklearn.ensemble import GradientBoostingClassifier\n",
    "from sklearn.model_selection import train_test_split\n",
    "from sklearn.pipeline import Pipeline"
   ],
   "metadata": {
    "collapsed": false,
    "ExecuteTime": {
     "start_time": "2023-04-09T15:59:47.909303Z",
     "end_time": "2023-04-09T15:59:48.647070Z"
    }
   }
  },
  {
   "cell_type": "code",
   "execution_count": 13,
   "outputs": [
    {
     "data": {
      "text/plain": "                                                sentence sentiment  0  1  2\n0           При этом всегда получал качественные услуги.         +  1  0  0\n1      Не вижу, за что хотя бы 2 поставить, сервис на 1!         −  0  0  1\n2           Вот так \"Мой любимый\" банк МКБ меня обманул.         −  0  0  1\n3                   Отвратительное отношение к клиентам.         −  0  0  1\n4      Всегда в любое время дня и ночи помогут, ответ...         +  1  0  0\n...                                                  ...       ... .. .. ..\n19356  Никогда и ни в коем случае не открывайте счет ...         −  0  0  1\n19357  ТИ откровенно забили на качество и развивают с...         −  0  0  1\n19358  Я считаю, это прорыв и лидерство финансовых ус...         +  1  0  0\n19359  Писал мужчина очень доходчиво, не финансовым я...         +  1  0  0\n19360  Данная ситуация меня сильно выбила из колеи, и...         −  0  0  1\n\n[19361 rows x 5 columns]",
      "text/html": "<div>\n<style scoped>\n    .dataframe tbody tr th:only-of-type {\n        vertical-align: middle;\n    }\n\n    .dataframe tbody tr th {\n        vertical-align: top;\n    }\n\n    .dataframe thead th {\n        text-align: right;\n    }\n</style>\n<table border=\"1\" class=\"dataframe\">\n  <thead>\n    <tr style=\"text-align: right;\">\n      <th></th>\n      <th>sentence</th>\n      <th>sentiment</th>\n      <th>0</th>\n      <th>1</th>\n      <th>2</th>\n    </tr>\n  </thead>\n  <tbody>\n    <tr>\n      <th>0</th>\n      <td>При этом всегда получал качественные услуги.</td>\n      <td>+</td>\n      <td>1</td>\n      <td>0</td>\n      <td>0</td>\n    </tr>\n    <tr>\n      <th>1</th>\n      <td>Не вижу, за что хотя бы 2 поставить, сервис на 1!</td>\n      <td>−</td>\n      <td>0</td>\n      <td>0</td>\n      <td>1</td>\n    </tr>\n    <tr>\n      <th>2</th>\n      <td>Вот так \"Мой любимый\" банк МКБ меня обманул.</td>\n      <td>−</td>\n      <td>0</td>\n      <td>0</td>\n      <td>1</td>\n    </tr>\n    <tr>\n      <th>3</th>\n      <td>Отвратительное отношение к клиентам.</td>\n      <td>−</td>\n      <td>0</td>\n      <td>0</td>\n      <td>1</td>\n    </tr>\n    <tr>\n      <th>4</th>\n      <td>Всегда в любое время дня и ночи помогут, ответ...</td>\n      <td>+</td>\n      <td>1</td>\n      <td>0</td>\n      <td>0</td>\n    </tr>\n    <tr>\n      <th>...</th>\n      <td>...</td>\n      <td>...</td>\n      <td>...</td>\n      <td>...</td>\n      <td>...</td>\n    </tr>\n    <tr>\n      <th>19356</th>\n      <td>Никогда и ни в коем случае не открывайте счет ...</td>\n      <td>−</td>\n      <td>0</td>\n      <td>0</td>\n      <td>1</td>\n    </tr>\n    <tr>\n      <th>19357</th>\n      <td>ТИ откровенно забили на качество и развивают с...</td>\n      <td>−</td>\n      <td>0</td>\n      <td>0</td>\n      <td>1</td>\n    </tr>\n    <tr>\n      <th>19358</th>\n      <td>Я считаю, это прорыв и лидерство финансовых ус...</td>\n      <td>+</td>\n      <td>1</td>\n      <td>0</td>\n      <td>0</td>\n    </tr>\n    <tr>\n      <th>19359</th>\n      <td>Писал мужчина очень доходчиво, не финансовым я...</td>\n      <td>+</td>\n      <td>1</td>\n      <td>0</td>\n      <td>0</td>\n    </tr>\n    <tr>\n      <th>19360</th>\n      <td>Данная ситуация меня сильно выбила из колеи, и...</td>\n      <td>−</td>\n      <td>0</td>\n      <td>0</td>\n      <td>1</td>\n    </tr>\n  </tbody>\n</table>\n<p>19361 rows × 5 columns</p>\n</div>"
     },
     "execution_count": 13,
     "metadata": {},
     "output_type": "execute_result"
    }
   ],
   "source": [
    "df"
   ],
   "metadata": {
    "collapsed": false,
    "ExecuteTime": {
     "start_time": "2023-04-09T16:00:03.255264Z",
     "end_time": "2023-04-09T16:00:03.270469Z"
    }
   }
  },
  {
   "cell_type": "code",
   "execution_count": 12,
   "outputs": [
    {
     "name": "stderr",
     "output_type": "stream",
     "text": [
      "/var/folders/6v/98b48yrd1h10k9v608dk742h0000gn/T/ipykernel_18315/3409501755.py:5: SettingWithCopyWarning: \n",
      "A value is trying to be set on a copy of a slice from a DataFrame.\n",
      "Try using .loc[row_indexer,col_indexer] = value instead\n",
      "\n",
      "See the caveats in the documentation: https://pandas.pydata.org/pandas-docs/stable/user_guide/indexing.html#returning-a-view-versus-a-copy\n",
      "  df[df[\"sentiment\"] == '+'][\"sentiment\"] = 1\n"
     ]
    },
    {
     "ename": "ValueError",
     "evalue": "The truth value of a Series is ambiguous. Use a.empty, a.bool(), a.item(), a.any() or a.all().",
     "output_type": "error",
     "traceback": [
      "\u001B[0;31m---------------------------------------------------------------------------\u001B[0m",
      "\u001B[0;31mValueError\u001B[0m                                Traceback (most recent call last)",
      "\u001B[0;32m/var/folders/6v/98b48yrd1h10k9v608dk742h0000gn/T/ipykernel_18315/3409501755.py\u001B[0m in \u001B[0;36m<module>\u001B[0;34m\u001B[0m\n\u001B[1;32m      4\u001B[0m \u001B[0;31m# df\u001B[0m\u001B[0;34m\u001B[0m\u001B[0;34m\u001B[0m\u001B[0m\n\u001B[1;32m      5\u001B[0m \u001B[0mdf\u001B[0m\u001B[0;34m[\u001B[0m\u001B[0mdf\u001B[0m\u001B[0;34m[\u001B[0m\u001B[0;34m\"sentiment\"\u001B[0m\u001B[0;34m]\u001B[0m \u001B[0;34m==\u001B[0m \u001B[0;34m'+'\u001B[0m\u001B[0;34m]\u001B[0m\u001B[0;34m[\u001B[0m\u001B[0;34m\"sentiment\"\u001B[0m\u001B[0;34m]\u001B[0m \u001B[0;34m=\u001B[0m \u001B[0;36m1\u001B[0m\u001B[0;34m\u001B[0m\u001B[0;34m\u001B[0m\u001B[0m\n\u001B[0;32m----> 6\u001B[0;31m \u001B[0mdf\u001B[0m\u001B[0;34m[\u001B[0m\u001B[0;34m(\u001B[0m\u001B[0mdf\u001B[0m\u001B[0;34m[\u001B[0m\u001B[0;34m\"sentiment\"\u001B[0m\u001B[0;34m]\u001B[0m \u001B[0;34m!=\u001B[0m \u001B[0;34m'+'\u001B[0m\u001B[0;34m)\u001B[0m \u001B[0;32mor\u001B[0m \u001B[0mdf\u001B[0m\u001B[0;34m[\u001B[0m\u001B[0;34m\"sentiment\"\u001B[0m\u001B[0;34m]\u001B[0m \u001B[0;34m!=\u001B[0m \u001B[0;34m'?'\u001B[0m\u001B[0;34m]\u001B[0m\u001B[0;34m[\u001B[0m\u001B[0;34m\"sentiment\"\u001B[0m\u001B[0;34m]\u001B[0m \u001B[0;34m=\u001B[0m \u001B[0;36m0\u001B[0m\u001B[0;34m\u001B[0m\u001B[0;34m\u001B[0m\u001B[0m\n\u001B[0m\u001B[1;32m      7\u001B[0m \u001B[0mdf\u001B[0m\u001B[0;34m[\u001B[0m\u001B[0mdf\u001B[0m\u001B[0;34m[\u001B[0m\u001B[0;34m\"sentiment\"\u001B[0m\u001B[0;34m]\u001B[0m \u001B[0;34m==\u001B[0m \u001B[0;34m'?'\u001B[0m\u001B[0;34m]\u001B[0m\u001B[0;34m[\u001B[0m\u001B[0;34m\"sentiment\"\u001B[0m\u001B[0;34m]\u001B[0m \u001B[0;34m=\u001B[0m \u001B[0;36m1\u001B[0m\u001B[0;34m\u001B[0m\u001B[0;34m\u001B[0m\u001B[0m\n",
      "\u001B[0;32m~/opt/anaconda3/lib/python3.9/site-packages/pandas/core/generic.py\u001B[0m in \u001B[0;36m__nonzero__\u001B[0;34m(self)\u001B[0m\n\u001B[1;32m   1525\u001B[0m     \u001B[0;34m@\u001B[0m\u001B[0mfinal\u001B[0m\u001B[0;34m\u001B[0m\u001B[0;34m\u001B[0m\u001B[0m\n\u001B[1;32m   1526\u001B[0m     \u001B[0;32mdef\u001B[0m \u001B[0m__nonzero__\u001B[0m\u001B[0;34m(\u001B[0m\u001B[0mself\u001B[0m\u001B[0;34m)\u001B[0m\u001B[0;34m:\u001B[0m\u001B[0;34m\u001B[0m\u001B[0;34m\u001B[0m\u001B[0m\n\u001B[0;32m-> 1527\u001B[0;31m         raise ValueError(\n\u001B[0m\u001B[1;32m   1528\u001B[0m             \u001B[0;34mf\"The truth value of a {type(self).__name__} is ambiguous. \"\u001B[0m\u001B[0;34m\u001B[0m\u001B[0;34m\u001B[0m\u001B[0m\n\u001B[1;32m   1529\u001B[0m             \u001B[0;34m\"Use a.empty, a.bool(), a.item(), a.any() or a.all().\"\u001B[0m\u001B[0;34m\u001B[0m\u001B[0;34m\u001B[0m\u001B[0m\n",
      "\u001B[0;31mValueError\u001B[0m: The truth value of a Series is ambiguous. Use a.empty, a.bool(), a.item(), a.any() or a.all()."
     ]
    }
   ],
   "source": [
    "# df[\"sentiment\"] = df[\"sentiment\"].replace(['+'], 1)\n",
    "# df[\"sentiment\"] = df[\"sentiment\"].replace(['-'], -1)\n",
    "# df[\"sentiment\"] = df[\"sentiment\"].replace(['?'], 0)\n",
    "# df\n",
    "df[df[\"sentiment\"] == '+'][\"sentiment\"] = 1\n",
    "df[(df[\"sentiment\"] != '+') or df[\"sentiment\"] != '?'][\"sentiment\"] = 0\n",
    "df[df[\"sentiment\"] == '?'][\"sentiment\"] = 1"
   ],
   "metadata": {
    "collapsed": false,
    "ExecuteTime": {
     "start_time": "2023-04-08T17:46:54.311461Z",
     "end_time": "2023-04-08T17:46:54.317307Z"
    }
   }
  },
  {
   "cell_type": "code",
   "execution_count": 14,
   "outputs": [],
   "source": [
    "X_train, X_test, y_train, y_test = train_test_split(df[\"sentence\"], df[\"sentiment\"], test_size=0.15, random_state=42)"
   ],
   "metadata": {
    "collapsed": false,
    "ExecuteTime": {
     "start_time": "2023-04-09T16:00:10.291563Z",
     "end_time": "2023-04-09T16:00:10.323641Z"
    }
   }
  },
  {
   "cell_type": "code",
   "execution_count": 202,
   "outputs": [
    {
     "name": "stderr",
     "output_type": "stream",
     "text": [
      "/var/folders/6v/98b48yrd1h10k9v608dk742h0000gn/T/ipykernel_1099/574569275.py:1: SettingWithCopyWarning: \n",
      "A value is trying to be set on a copy of a slice from a DataFrame.\n",
      "Try using .loc[row_indexer,col_indexer] = value instead\n",
      "\n",
      "See the caveats in the documentation: https://pandas.pydata.org/pandas-docs/stable/user_guide/indexing.html#returning-a-view-versus-a-copy\n",
      "  df[df[\"sentiment\"] == '−'][\"sentiment\"] = -1\n"
     ]
    },
    {
     "data": {
      "text/plain": "                                                sentence sentiment  0  1  2\n0           При этом всегда получал качественные услуги.         1  1  0  0\n1      Не вижу, за что хотя бы 2 поставить, сервис на 1!         −  0  0  1\n2           Вот так \"Мой любимый\" банк МКБ меня обманул.         −  0  0  1\n3                   Отвратительное отношение к клиентам.         −  0  0  1\n4      Всегда в любое время дня и ночи помогут, ответ...         1  1  0  0\n...                                                  ...       ... .. .. ..\n19356  Никогда и ни в коем случае не открывайте счет ...         −  0  0  1\n19357  ТИ откровенно забили на качество и развивают с...         −  0  0  1\n19358  Я считаю, это прорыв и лидерство финансовых ус...         1  1  0  0\n19359  Писал мужчина очень доходчиво, не финансовым я...         1  1  0  0\n19360  Данная ситуация меня сильно выбила из колеи, и...         −  0  0  1\n\n[19361 rows x 5 columns]",
      "text/html": "<div>\n<style scoped>\n    .dataframe tbody tr th:only-of-type {\n        vertical-align: middle;\n    }\n\n    .dataframe tbody tr th {\n        vertical-align: top;\n    }\n\n    .dataframe thead th {\n        text-align: right;\n    }\n</style>\n<table border=\"1\" class=\"dataframe\">\n  <thead>\n    <tr style=\"text-align: right;\">\n      <th></th>\n      <th>sentence</th>\n      <th>sentiment</th>\n      <th>0</th>\n      <th>1</th>\n      <th>2</th>\n    </tr>\n  </thead>\n  <tbody>\n    <tr>\n      <th>0</th>\n      <td>При этом всегда получал качественные услуги.</td>\n      <td>1</td>\n      <td>1</td>\n      <td>0</td>\n      <td>0</td>\n    </tr>\n    <tr>\n      <th>1</th>\n      <td>Не вижу, за что хотя бы 2 поставить, сервис на 1!</td>\n      <td>−</td>\n      <td>0</td>\n      <td>0</td>\n      <td>1</td>\n    </tr>\n    <tr>\n      <th>2</th>\n      <td>Вот так \"Мой любимый\" банк МКБ меня обманул.</td>\n      <td>−</td>\n      <td>0</td>\n      <td>0</td>\n      <td>1</td>\n    </tr>\n    <tr>\n      <th>3</th>\n      <td>Отвратительное отношение к клиентам.</td>\n      <td>−</td>\n      <td>0</td>\n      <td>0</td>\n      <td>1</td>\n    </tr>\n    <tr>\n      <th>4</th>\n      <td>Всегда в любое время дня и ночи помогут, ответ...</td>\n      <td>1</td>\n      <td>1</td>\n      <td>0</td>\n      <td>0</td>\n    </tr>\n    <tr>\n      <th>...</th>\n      <td>...</td>\n      <td>...</td>\n      <td>...</td>\n      <td>...</td>\n      <td>...</td>\n    </tr>\n    <tr>\n      <th>19356</th>\n      <td>Никогда и ни в коем случае не открывайте счет ...</td>\n      <td>−</td>\n      <td>0</td>\n      <td>0</td>\n      <td>1</td>\n    </tr>\n    <tr>\n      <th>19357</th>\n      <td>ТИ откровенно забили на качество и развивают с...</td>\n      <td>−</td>\n      <td>0</td>\n      <td>0</td>\n      <td>1</td>\n    </tr>\n    <tr>\n      <th>19358</th>\n      <td>Я считаю, это прорыв и лидерство финансовых ус...</td>\n      <td>1</td>\n      <td>1</td>\n      <td>0</td>\n      <td>0</td>\n    </tr>\n    <tr>\n      <th>19359</th>\n      <td>Писал мужчина очень доходчиво, не финансовым я...</td>\n      <td>1</td>\n      <td>1</td>\n      <td>0</td>\n      <td>0</td>\n    </tr>\n    <tr>\n      <th>19360</th>\n      <td>Данная ситуация меня сильно выбила из колеи, и...</td>\n      <td>−</td>\n      <td>0</td>\n      <td>0</td>\n      <td>1</td>\n    </tr>\n  </tbody>\n</table>\n<p>19361 rows × 5 columns</p>\n</div>"
     },
     "execution_count": 202,
     "metadata": {},
     "output_type": "execute_result"
    }
   ],
   "source": [
    "df[df[\"sentiment\"] == '−'][\"sentiment\"] = -1\n",
    "df"
   ],
   "metadata": {
    "collapsed": false,
    "ExecuteTime": {
     "start_time": "2023-04-09T11:02:54.577027Z",
     "end_time": "2023-04-09T11:02:54.611113Z"
    }
   }
  },
  {
   "cell_type": "code",
   "execution_count": 15,
   "outputs": [
    {
     "name": "stderr",
     "output_type": "stream",
     "text": [
      "/Users/nikita/opt/anaconda3/lib/python3.9/site-packages/sklearn/feature_extraction/text.py:516: UserWarning: The parameter 'token_pattern' will not be used since 'tokenizer' is not None'\n",
      "  warnings.warn(\n"
     ]
    }
   ],
   "source": [
    "tk = CustomTokenizer(lang='russian')\n",
    "\n",
    "vectorizer = TfidfVectorizer(tokenizer=lambda x: tk.tokenize(x))\n",
    "\n",
    "features = vectorizer.fit(X_train)\n"
   ],
   "metadata": {
    "collapsed": false,
    "ExecuteTime": {
     "start_time": "2023-04-09T16:00:16.977552Z",
     "end_time": "2023-04-09T16:00:20.499151Z"
    }
   }
  },
  {
   "cell_type": "code",
   "execution_count": 16,
   "outputs": [],
   "source": [
    "tk = CustomTokenizer(lang='russian')\n",
    "pipeline = Pipeline([\n",
    "    (\"scaler\", TfidfVectorizer(tokenizer=lambda x: tk.tokenize(x))),\n",
    "    (\"model\", LogisticRegression(random_state=0))\n",
    "])"
   ],
   "metadata": {
    "collapsed": false,
    "ExecuteTime": {
     "start_time": "2023-04-09T16:00:22.341906Z",
     "end_time": "2023-04-09T16:00:22.348267Z"
    }
   }
  },
  {
   "cell_type": "code",
   "execution_count": 17,
   "outputs": [
    {
     "name": "stderr",
     "output_type": "stream",
     "text": [
      "/Users/nikita/opt/anaconda3/lib/python3.9/site-packages/sklearn/linear_model/_logistic.py:814: ConvergenceWarning: lbfgs failed to converge (status=1):\n",
      "STOP: TOTAL NO. of ITERATIONS REACHED LIMIT.\n",
      "\n",
      "Increase the number of iterations (max_iter) or scale the data as shown in:\n",
      "    https://scikit-learn.org/stable/modules/preprocessing.html\n",
      "Please also refer to the documentation for alternative solver options:\n",
      "    https://scikit-learn.org/stable/modules/linear_model.html#logistic-regression\n",
      "  n_iter_i = _check_optimize_result(\n"
     ]
    },
    {
     "data": {
      "text/plain": "Pipeline(steps=[('scaler',\n                 TfidfVectorizer(tokenizer=<function <lambda> at 0x7f8402d80a60>)),\n                ('model', LogisticRegression(random_state=0))])"
     },
     "execution_count": 17,
     "metadata": {},
     "output_type": "execute_result"
    }
   ],
   "source": [
    "pipeline.fit(X_train, y_train)"
   ],
   "metadata": {
    "collapsed": false,
    "ExecuteTime": {
     "start_time": "2023-04-09T16:00:28.302972Z",
     "end_time": "2023-04-09T16:00:32.925525Z"
    }
   }
  },
  {
   "cell_type": "code",
   "execution_count": 173,
   "outputs": [
    {
     "name": "stdout",
     "output_type": "stream",
     "text": [
      "Почем − − True\n",
      "Т.е.  − − True\n",
      "Колл- + + True\n",
      "В при − − True\n",
      "Я Вам − − True\n",
      "Но в  − − True\n",
      "Никто − − True\n",
      "Я пон − − True\n",
      "Наша  − ? False\n",
      "Т.е.  − ? False\n",
      "Вы со − − True\n",
      "В ито − − True\n",
      "Супер + + True\n",
      "На пи ? ? True\n",
      "Карто ? − False\n"
     ]
    }
   ],
   "source": [
    "# # tk.tokenize(\"Альфа банк очень плохой банк. Никогда им не пользуетесь!\")\n",
    "# for i in range(10):\n",
    "#     print(X_test[i])\n",
    "for x, sentence in enumerate(X_test[:15]):\n",
    "    prediction = pipeline.predict([sentence])[0]\n",
    "    print(sentence[:5], y_test.iloc[x], prediction[0], prediction == y_test.iloc[x])"
   ],
   "metadata": {
    "collapsed": false,
    "ExecuteTime": {
     "start_time": "2023-04-08T16:06:12.258174Z",
     "end_time": "2023-04-08T16:06:12.294428Z"
    }
   }
  },
  {
   "cell_type": "code",
   "execution_count": 141,
   "outputs": [
    {
     "ename": "ValueError",
     "evalue": "X has 10042 features, but GradientBoostingClassifier is expecting 19103 features as input.",
     "output_type": "error",
     "traceback": [
      "\u001B[0;31m---------------------------------------------------------------------------\u001B[0m",
      "\u001B[0;31mValueError\u001B[0m                                Traceback (most recent call last)",
      "\u001B[0;32m/var/folders/6v/98b48yrd1h10k9v608dk742h0000gn/T/ipykernel_1099/3640963155.py\u001B[0m in \u001B[0;36m<module>\u001B[0;34m\u001B[0m\n\u001B[1;32m      1\u001B[0m \u001B[0mfeatures_test\u001B[0m \u001B[0;34m=\u001B[0m \u001B[0mvectorizer\u001B[0m\u001B[0;34m.\u001B[0m\u001B[0mfit_transform\u001B[0m\u001B[0;34m(\u001B[0m\u001B[0mX_test\u001B[0m\u001B[0;34m)\u001B[0m\u001B[0;34m\u001B[0m\u001B[0;34m\u001B[0m\u001B[0m\n\u001B[0;32m----> 2\u001B[0;31m \u001B[0mmodel\u001B[0m\u001B[0;34m.\u001B[0m\u001B[0mscore\u001B[0m\u001B[0;34m(\u001B[0m\u001B[0mfeatures_test\u001B[0m\u001B[0;34m,\u001B[0m \u001B[0my_test\u001B[0m\u001B[0;34m)\u001B[0m\u001B[0;34m\u001B[0m\u001B[0;34m\u001B[0m\u001B[0m\n\u001B[0m",
      "\u001B[0;32m~/opt/anaconda3/lib/python3.9/site-packages/sklearn/base.py\u001B[0m in \u001B[0;36mscore\u001B[0;34m(self, X, y, sample_weight)\u001B[0m\n\u001B[1;32m    649\u001B[0m         \u001B[0;32mfrom\u001B[0m \u001B[0;34m.\u001B[0m\u001B[0mmetrics\u001B[0m \u001B[0;32mimport\u001B[0m \u001B[0maccuracy_score\u001B[0m\u001B[0;34m\u001B[0m\u001B[0;34m\u001B[0m\u001B[0m\n\u001B[1;32m    650\u001B[0m \u001B[0;34m\u001B[0m\u001B[0m\n\u001B[0;32m--> 651\u001B[0;31m         \u001B[0;32mreturn\u001B[0m \u001B[0maccuracy_score\u001B[0m\u001B[0;34m(\u001B[0m\u001B[0my\u001B[0m\u001B[0;34m,\u001B[0m \u001B[0mself\u001B[0m\u001B[0;34m.\u001B[0m\u001B[0mpredict\u001B[0m\u001B[0;34m(\u001B[0m\u001B[0mX\u001B[0m\u001B[0;34m)\u001B[0m\u001B[0;34m,\u001B[0m \u001B[0msample_weight\u001B[0m\u001B[0;34m=\u001B[0m\u001B[0msample_weight\u001B[0m\u001B[0;34m)\u001B[0m\u001B[0;34m\u001B[0m\u001B[0;34m\u001B[0m\u001B[0m\n\u001B[0m\u001B[1;32m    652\u001B[0m \u001B[0;34m\u001B[0m\u001B[0m\n\u001B[1;32m    653\u001B[0m     \u001B[0;32mdef\u001B[0m \u001B[0m_more_tags\u001B[0m\u001B[0;34m(\u001B[0m\u001B[0mself\u001B[0m\u001B[0;34m)\u001B[0m\u001B[0;34m:\u001B[0m\u001B[0;34m\u001B[0m\u001B[0;34m\u001B[0m\u001B[0m\n",
      "\u001B[0;32m~/opt/anaconda3/lib/python3.9/site-packages/sklearn/ensemble/_gb.py\u001B[0m in \u001B[0;36mpredict\u001B[0;34m(self, X)\u001B[0m\n\u001B[1;32m   1357\u001B[0m             \u001B[0mThe\u001B[0m \u001B[0mpredicted\u001B[0m \u001B[0mvalues\u001B[0m\u001B[0;34m.\u001B[0m\u001B[0;34m\u001B[0m\u001B[0;34m\u001B[0m\u001B[0m\n\u001B[1;32m   1358\u001B[0m         \"\"\"\n\u001B[0;32m-> 1359\u001B[0;31m         \u001B[0mraw_predictions\u001B[0m \u001B[0;34m=\u001B[0m \u001B[0mself\u001B[0m\u001B[0;34m.\u001B[0m\u001B[0mdecision_function\u001B[0m\u001B[0;34m(\u001B[0m\u001B[0mX\u001B[0m\u001B[0;34m)\u001B[0m\u001B[0;34m\u001B[0m\u001B[0;34m\u001B[0m\u001B[0m\n\u001B[0m\u001B[1;32m   1360\u001B[0m         \u001B[0mencoded_labels\u001B[0m \u001B[0;34m=\u001B[0m \u001B[0mself\u001B[0m\u001B[0;34m.\u001B[0m\u001B[0mloss_\u001B[0m\u001B[0;34m.\u001B[0m\u001B[0m_raw_prediction_to_decision\u001B[0m\u001B[0;34m(\u001B[0m\u001B[0mraw_predictions\u001B[0m\u001B[0;34m)\u001B[0m\u001B[0;34m\u001B[0m\u001B[0;34m\u001B[0m\u001B[0m\n\u001B[1;32m   1361\u001B[0m         \u001B[0;32mreturn\u001B[0m \u001B[0mself\u001B[0m\u001B[0;34m.\u001B[0m\u001B[0mclasses_\u001B[0m\u001B[0;34m.\u001B[0m\u001B[0mtake\u001B[0m\u001B[0;34m(\u001B[0m\u001B[0mencoded_labels\u001B[0m\u001B[0;34m,\u001B[0m \u001B[0maxis\u001B[0m\u001B[0;34m=\u001B[0m\u001B[0;36m0\u001B[0m\u001B[0;34m)\u001B[0m\u001B[0;34m\u001B[0m\u001B[0;34m\u001B[0m\u001B[0m\n",
      "\u001B[0;32m~/opt/anaconda3/lib/python3.9/site-packages/sklearn/ensemble/_gb.py\u001B[0m in \u001B[0;36mdecision_function\u001B[0;34m(self, X)\u001B[0m\n\u001B[1;32m   1310\u001B[0m             \u001B[0marray\u001B[0m \u001B[0mof\u001B[0m \u001B[0mshape\u001B[0m \u001B[0;34m(\u001B[0m\u001B[0mn_samples\u001B[0m\u001B[0;34m,\u001B[0m\u001B[0;34m)\u001B[0m\u001B[0;34m.\u001B[0m\u001B[0;34m\u001B[0m\u001B[0;34m\u001B[0m\u001B[0m\n\u001B[1;32m   1311\u001B[0m         \"\"\"\n\u001B[0;32m-> 1312\u001B[0;31m         X = self._validate_data(\n\u001B[0m\u001B[1;32m   1313\u001B[0m             \u001B[0mX\u001B[0m\u001B[0;34m,\u001B[0m \u001B[0mdtype\u001B[0m\u001B[0;34m=\u001B[0m\u001B[0mDTYPE\u001B[0m\u001B[0;34m,\u001B[0m \u001B[0morder\u001B[0m\u001B[0;34m=\u001B[0m\u001B[0;34m\"C\"\u001B[0m\u001B[0;34m,\u001B[0m \u001B[0maccept_sparse\u001B[0m\u001B[0;34m=\u001B[0m\u001B[0;34m\"csr\"\u001B[0m\u001B[0;34m,\u001B[0m \u001B[0mreset\u001B[0m\u001B[0;34m=\u001B[0m\u001B[0;32mFalse\u001B[0m\u001B[0;34m\u001B[0m\u001B[0;34m\u001B[0m\u001B[0m\n\u001B[1;32m   1314\u001B[0m         )\n",
      "\u001B[0;32m~/opt/anaconda3/lib/python3.9/site-packages/sklearn/base.py\u001B[0m in \u001B[0;36m_validate_data\u001B[0;34m(self, X, y, reset, validate_separately, **check_params)\u001B[0m\n\u001B[1;32m    583\u001B[0m \u001B[0;34m\u001B[0m\u001B[0m\n\u001B[1;32m    584\u001B[0m         \u001B[0;32mif\u001B[0m \u001B[0;32mnot\u001B[0m \u001B[0mno_val_X\u001B[0m \u001B[0;32mand\u001B[0m \u001B[0mcheck_params\u001B[0m\u001B[0;34m.\u001B[0m\u001B[0mget\u001B[0m\u001B[0;34m(\u001B[0m\u001B[0;34m\"ensure_2d\"\u001B[0m\u001B[0;34m,\u001B[0m \u001B[0;32mTrue\u001B[0m\u001B[0;34m)\u001B[0m\u001B[0;34m:\u001B[0m\u001B[0;34m\u001B[0m\u001B[0;34m\u001B[0m\u001B[0m\n\u001B[0;32m--> 585\u001B[0;31m             \u001B[0mself\u001B[0m\u001B[0;34m.\u001B[0m\u001B[0m_check_n_features\u001B[0m\u001B[0;34m(\u001B[0m\u001B[0mX\u001B[0m\u001B[0;34m,\u001B[0m \u001B[0mreset\u001B[0m\u001B[0;34m=\u001B[0m\u001B[0mreset\u001B[0m\u001B[0;34m)\u001B[0m\u001B[0;34m\u001B[0m\u001B[0;34m\u001B[0m\u001B[0m\n\u001B[0m\u001B[1;32m    586\u001B[0m \u001B[0;34m\u001B[0m\u001B[0m\n\u001B[1;32m    587\u001B[0m         \u001B[0;32mreturn\u001B[0m \u001B[0mout\u001B[0m\u001B[0;34m\u001B[0m\u001B[0;34m\u001B[0m\u001B[0m\n",
      "\u001B[0;32m~/opt/anaconda3/lib/python3.9/site-packages/sklearn/base.py\u001B[0m in \u001B[0;36m_check_n_features\u001B[0;34m(self, X, reset)\u001B[0m\n\u001B[1;32m    398\u001B[0m \u001B[0;34m\u001B[0m\u001B[0m\n\u001B[1;32m    399\u001B[0m         \u001B[0;32mif\u001B[0m \u001B[0mn_features\u001B[0m \u001B[0;34m!=\u001B[0m \u001B[0mself\u001B[0m\u001B[0;34m.\u001B[0m\u001B[0mn_features_in_\u001B[0m\u001B[0;34m:\u001B[0m\u001B[0;34m\u001B[0m\u001B[0;34m\u001B[0m\u001B[0m\n\u001B[0;32m--> 400\u001B[0;31m             raise ValueError(\n\u001B[0m\u001B[1;32m    401\u001B[0m                 \u001B[0;34mf\"X has {n_features} features, but {self.__class__.__name__} \"\u001B[0m\u001B[0;34m\u001B[0m\u001B[0;34m\u001B[0m\u001B[0m\n\u001B[1;32m    402\u001B[0m                 \u001B[0;34mf\"is expecting {self.n_features_in_} features as input.\"\u001B[0m\u001B[0;34m\u001B[0m\u001B[0;34m\u001B[0m\u001B[0m\n",
      "\u001B[0;31mValueError\u001B[0m: X has 10042 features, but GradientBoostingClassifier is expecting 19103 features as input."
     ]
    }
   ],
   "source": [
    "features_test = vectorizer.fit_transform(X_test)\n",
    "# model.score(features_test, y_test)"
   ],
   "metadata": {
    "collapsed": false
   }
  },
  {
   "cell_type": "code",
   "execution_count": 175,
   "outputs": [
    {
     "name": "stderr",
     "output_type": "stream",
     "text": [
      "2023-04-08 16:22:30,783 (__init__.py:966 MainThread) ERROR - TeleBot: \"Infinity polling: polling exited\"\n",
      "2023-04-08 16:22:30,791 (__init__.py:968 MainThread) ERROR - TeleBot: \"Break infinity polling\"\n"
     ]
    }
   ],
   "source": [
    "import telebot\n",
    "from telebot import types as typ\n",
    "bot = telebot.TeleBot(\"6168274831:AAFSgiVCg9lMkyqZNkWlbzfgYtDMPHSChsA\")\n",
    "\n",
    "\n",
    "@bot.message_handler(content_types=['text'])\n",
    "def handle(message: typ.Message):\n",
    "\n",
    "    a = pipeline.predict([message.text])\n",
    "    bot.send_message(message.chat.id, a[0])\n",
    "\n",
    "bot.infinity_polling()"
   ],
   "metadata": {
    "collapsed": false,
    "ExecuteTime": {
     "start_time": "2023-04-08T16:10:30.871098Z",
     "end_time": "2023-04-08T16:22:30.802605Z"
    }
   }
  },
  {
   "cell_type": "code",
   "execution_count": 18,
   "outputs": [],
   "source": [
    "from sklearn.metrics import roc_auc_score"
   ],
   "metadata": {
    "collapsed": false,
    "ExecuteTime": {
     "start_time": "2023-04-09T16:00:41.009159Z",
     "end_time": "2023-04-09T16:00:41.014067Z"
    }
   }
  },
  {
   "cell_type": "code",
   "execution_count": 19,
   "outputs": [
    {
     "ename": "ValueError",
     "evalue": "could not convert string to float: '−'",
     "output_type": "error",
     "traceback": [
      "\u001B[0;31m---------------------------------------------------------------------------\u001B[0m",
      "\u001B[0;31mValueError\u001B[0m                                Traceback (most recent call last)",
      "\u001B[0;32m/var/folders/6v/98b48yrd1h10k9v608dk742h0000gn/T/ipykernel_18315/3396828252.py\u001B[0m in \u001B[0;36m<module>\u001B[0;34m\u001B[0m\n\u001B[0;32m----> 1\u001B[0;31m \u001B[0mroc_auc_score\u001B[0m\u001B[0;34m(\u001B[0m\u001B[0my_test\u001B[0m\u001B[0;34m,\u001B[0m \u001B[0mpipeline\u001B[0m\u001B[0;34m.\u001B[0m\u001B[0mpredict\u001B[0m\u001B[0;34m(\u001B[0m\u001B[0mX_test\u001B[0m\u001B[0;34m)\u001B[0m\u001B[0;34m)\u001B[0m\u001B[0;34m\u001B[0m\u001B[0;34m\u001B[0m\u001B[0m\n\u001B[0m",
      "\u001B[0;32m~/opt/anaconda3/lib/python3.9/site-packages/sklearn/metrics/_ranking.py\u001B[0m in \u001B[0;36mroc_auc_score\u001B[0;34m(y_true, y_score, average, sample_weight, max_fpr, multi_class, labels)\u001B[0m\n\u001B[1;32m    544\u001B[0m     \u001B[0my_type\u001B[0m \u001B[0;34m=\u001B[0m \u001B[0mtype_of_target\u001B[0m\u001B[0;34m(\u001B[0m\u001B[0my_true\u001B[0m\u001B[0;34m)\u001B[0m\u001B[0;34m\u001B[0m\u001B[0;34m\u001B[0m\u001B[0m\n\u001B[1;32m    545\u001B[0m     \u001B[0my_true\u001B[0m \u001B[0;34m=\u001B[0m \u001B[0mcheck_array\u001B[0m\u001B[0;34m(\u001B[0m\u001B[0my_true\u001B[0m\u001B[0;34m,\u001B[0m \u001B[0mensure_2d\u001B[0m\u001B[0;34m=\u001B[0m\u001B[0;32mFalse\u001B[0m\u001B[0;34m,\u001B[0m \u001B[0mdtype\u001B[0m\u001B[0;34m=\u001B[0m\u001B[0;32mNone\u001B[0m\u001B[0;34m)\u001B[0m\u001B[0;34m\u001B[0m\u001B[0;34m\u001B[0m\u001B[0m\n\u001B[0;32m--> 546\u001B[0;31m     \u001B[0my_score\u001B[0m \u001B[0;34m=\u001B[0m \u001B[0mcheck_array\u001B[0m\u001B[0;34m(\u001B[0m\u001B[0my_score\u001B[0m\u001B[0;34m,\u001B[0m \u001B[0mensure_2d\u001B[0m\u001B[0;34m=\u001B[0m\u001B[0;32mFalse\u001B[0m\u001B[0;34m)\u001B[0m\u001B[0;34m\u001B[0m\u001B[0;34m\u001B[0m\u001B[0m\n\u001B[0m\u001B[1;32m    547\u001B[0m \u001B[0;34m\u001B[0m\u001B[0m\n\u001B[1;32m    548\u001B[0m     if y_type == \"multiclass\" or (\n",
      "\u001B[0;32m~/opt/anaconda3/lib/python3.9/site-packages/sklearn/utils/validation.py\u001B[0m in \u001B[0;36mcheck_array\u001B[0;34m(array, accept_sparse, accept_large_sparse, dtype, order, copy, force_all_finite, ensure_2d, allow_nd, ensure_min_samples, ensure_min_features, estimator)\u001B[0m\n\u001B[1;32m    744\u001B[0m                     \u001B[0marray\u001B[0m \u001B[0;34m=\u001B[0m \u001B[0marray\u001B[0m\u001B[0;34m.\u001B[0m\u001B[0mastype\u001B[0m\u001B[0;34m(\u001B[0m\u001B[0mdtype\u001B[0m\u001B[0;34m,\u001B[0m \u001B[0mcasting\u001B[0m\u001B[0;34m=\u001B[0m\u001B[0;34m\"unsafe\"\u001B[0m\u001B[0;34m,\u001B[0m \u001B[0mcopy\u001B[0m\u001B[0;34m=\u001B[0m\u001B[0;32mFalse\u001B[0m\u001B[0;34m)\u001B[0m\u001B[0;34m\u001B[0m\u001B[0;34m\u001B[0m\u001B[0m\n\u001B[1;32m    745\u001B[0m                 \u001B[0;32melse\u001B[0m\u001B[0;34m:\u001B[0m\u001B[0;34m\u001B[0m\u001B[0;34m\u001B[0m\u001B[0m\n\u001B[0;32m--> 746\u001B[0;31m                     \u001B[0marray\u001B[0m \u001B[0;34m=\u001B[0m \u001B[0mnp\u001B[0m\u001B[0;34m.\u001B[0m\u001B[0masarray\u001B[0m\u001B[0;34m(\u001B[0m\u001B[0marray\u001B[0m\u001B[0;34m,\u001B[0m \u001B[0morder\u001B[0m\u001B[0;34m=\u001B[0m\u001B[0morder\u001B[0m\u001B[0;34m,\u001B[0m \u001B[0mdtype\u001B[0m\u001B[0;34m=\u001B[0m\u001B[0mdtype\u001B[0m\u001B[0;34m)\u001B[0m\u001B[0;34m\u001B[0m\u001B[0;34m\u001B[0m\u001B[0m\n\u001B[0m\u001B[1;32m    747\u001B[0m             \u001B[0;32mexcept\u001B[0m \u001B[0mComplexWarning\u001B[0m \u001B[0;32mas\u001B[0m \u001B[0mcomplex_warning\u001B[0m\u001B[0;34m:\u001B[0m\u001B[0;34m\u001B[0m\u001B[0;34m\u001B[0m\u001B[0m\n\u001B[1;32m    748\u001B[0m                 raise ValueError(\n",
      "\u001B[0;31mValueError\u001B[0m: could not convert string to float: '−'"
     ]
    }
   ],
   "source": [
    "roc_auc_score(y_test, pipeline.predict(X_test))"
   ],
   "metadata": {
    "collapsed": false
   }
  },
  {
   "cell_type": "code",
   "execution_count": 203,
   "outputs": [],
   "source": [
    "df = pd.read_csv('./Out_202.csv')"
   ],
   "metadata": {
    "collapsed": false,
    "ExecuteTime": {
     "start_time": "2023-04-09T11:04:33.293288Z",
     "end_time": "2023-04-09T11:04:33.427395Z"
    }
   }
  },
  {
   "cell_type": "code",
   "execution_count": 204,
   "outputs": [
    {
     "data": {
      "text/plain": "           0       При этом всегда получал качественные услуги.  1  1.1  0.1  \\\n0          1  Не вижу, за что хотя бы 2 поставить, сервис на 1! -1    0    0   \n1          2       Вот так \"Мой любимый\" банк МКБ меня обманул. -1    0    0   \n2          3               Отвратительное отношение к клиентам. -1    0    0   \n3          4  Всегда в любое время дня и ночи помогут, ответ...  1    1    0   \n4          5    Все время согласовывалось, всё делалось быстро.  1    1    0   \n...      ...                                                ... ..  ...  ...   \n19355  19356  Никогда и ни в коем случае не открывайте счет ... -1    0    0   \n19356  19357  ТИ откровенно забили на качество и развивают с... -1    0    0   \n19357  19358  Я считаю, это прорыв и лидерство финансовых ус...  1    1    0   \n19358  19359  Писал мужчина очень доходчиво, не финансовым я...  1    1    0   \n19359  19360  Данная ситуация меня сильно выбила из колеи, и... -1    0    0   \n\n       0.2  \n0        1  \n1        1  \n2        1  \n3        0  \n4        0  \n...    ...  \n19355    1  \n19356    1  \n19357    0  \n19358    0  \n19359    1  \n\n[19360 rows x 6 columns]",
      "text/html": "<div>\n<style scoped>\n    .dataframe tbody tr th:only-of-type {\n        vertical-align: middle;\n    }\n\n    .dataframe tbody tr th {\n        vertical-align: top;\n    }\n\n    .dataframe thead th {\n        text-align: right;\n    }\n</style>\n<table border=\"1\" class=\"dataframe\">\n  <thead>\n    <tr style=\"text-align: right;\">\n      <th></th>\n      <th>0</th>\n      <th>При этом всегда получал качественные услуги.</th>\n      <th>1</th>\n      <th>1.1</th>\n      <th>0.1</th>\n      <th>0.2</th>\n    </tr>\n  </thead>\n  <tbody>\n    <tr>\n      <th>0</th>\n      <td>1</td>\n      <td>Не вижу, за что хотя бы 2 поставить, сервис на 1!</td>\n      <td>-1</td>\n      <td>0</td>\n      <td>0</td>\n      <td>1</td>\n    </tr>\n    <tr>\n      <th>1</th>\n      <td>2</td>\n      <td>Вот так \"Мой любимый\" банк МКБ меня обманул.</td>\n      <td>-1</td>\n      <td>0</td>\n      <td>0</td>\n      <td>1</td>\n    </tr>\n    <tr>\n      <th>2</th>\n      <td>3</td>\n      <td>Отвратительное отношение к клиентам.</td>\n      <td>-1</td>\n      <td>0</td>\n      <td>0</td>\n      <td>1</td>\n    </tr>\n    <tr>\n      <th>3</th>\n      <td>4</td>\n      <td>Всегда в любое время дня и ночи помогут, ответ...</td>\n      <td>1</td>\n      <td>1</td>\n      <td>0</td>\n      <td>0</td>\n    </tr>\n    <tr>\n      <th>4</th>\n      <td>5</td>\n      <td>Все время согласовывалось, всё делалось быстро.</td>\n      <td>1</td>\n      <td>1</td>\n      <td>0</td>\n      <td>0</td>\n    </tr>\n    <tr>\n      <th>...</th>\n      <td>...</td>\n      <td>...</td>\n      <td>...</td>\n      <td>...</td>\n      <td>...</td>\n      <td>...</td>\n    </tr>\n    <tr>\n      <th>19355</th>\n      <td>19356</td>\n      <td>Никогда и ни в коем случае не открывайте счет ...</td>\n      <td>-1</td>\n      <td>0</td>\n      <td>0</td>\n      <td>1</td>\n    </tr>\n    <tr>\n      <th>19356</th>\n      <td>19357</td>\n      <td>ТИ откровенно забили на качество и развивают с...</td>\n      <td>-1</td>\n      <td>0</td>\n      <td>0</td>\n      <td>1</td>\n    </tr>\n    <tr>\n      <th>19357</th>\n      <td>19358</td>\n      <td>Я считаю, это прорыв и лидерство финансовых ус...</td>\n      <td>1</td>\n      <td>1</td>\n      <td>0</td>\n      <td>0</td>\n    </tr>\n    <tr>\n      <th>19358</th>\n      <td>19359</td>\n      <td>Писал мужчина очень доходчиво, не финансовым я...</td>\n      <td>1</td>\n      <td>1</td>\n      <td>0</td>\n      <td>0</td>\n    </tr>\n    <tr>\n      <th>19359</th>\n      <td>19360</td>\n      <td>Данная ситуация меня сильно выбила из колеи, и...</td>\n      <td>-1</td>\n      <td>0</td>\n      <td>0</td>\n      <td>1</td>\n    </tr>\n  </tbody>\n</table>\n<p>19360 rows × 6 columns</p>\n</div>"
     },
     "execution_count": 204,
     "metadata": {},
     "output_type": "execute_result"
    }
   ],
   "source": [
    "df"
   ],
   "metadata": {
    "collapsed": false,
    "ExecuteTime": {
     "start_time": "2023-04-09T11:04:34.708511Z",
     "end_time": "2023-04-09T11:04:34.745426Z"
    }
   }
  },
  {
   "cell_type": "code",
   "execution_count": 34,
   "outputs": [
    {
     "data": {
      "text/plain": "array([[0.21051852, 0.58554277, 0.2039387 ]])"
     },
     "execution_count": 34,
     "metadata": {},
     "output_type": "execute_result"
    }
   ],
   "source": [
    "pipeline.predict_proba(['Неплохо!'])"
   ],
   "metadata": {
    "collapsed": false,
    "ExecuteTime": {
     "start_time": "2023-04-09T16:05:37.359993Z",
     "end_time": "2023-04-09T16:05:37.376763Z"
    }
   }
  },
  {
   "cell_type": "code",
   "execution_count": null,
   "outputs": [],
   "source": [],
   "metadata": {
    "collapsed": false
   }
  },
  {
   "cell_type": "code",
   "execution_count": 26,
   "outputs": [],
   "source": [
    "in_df = pd.read_csv('./1sentencenewtest.csv')"
   ],
   "metadata": {
    "collapsed": false,
    "ExecuteTime": {
     "start_time": "2023-04-09T16:03:57.813459Z",
     "end_time": "2023-04-09T16:03:57.836527Z"
    }
   }
  },
  {
   "cell_type": "code",
   "execution_count": 30,
   "outputs": [
    {
     "name": "stdout",
     "output_type": "stream",
     "text": [
      "15.03.2022 обратился на горячую линию для закрытия счет по кредиту и получения справки о закрытии и состоянии счетов на 21.12.2021\n"
     ]
    }
   ],
   "source": [],
   "metadata": {
    "collapsed": false,
    "ExecuteTime": {
     "start_time": "2023-04-09T16:04:43.049553Z",
     "end_time": "2023-04-09T16:04:43.059083Z"
    }
   }
  },
  {
   "cell_type": "code",
   "execution_count": 53,
   "outputs": [],
   "source": [
    "out_df = pd.DataFrame({'sentence': [], 'sentiment': [], 'sentimentprob': []})\n",
    "\n",
    "for sentence in in_df[\"0\"]:\n",
    "    prediction_sentiment = pipeline.predict([sentence])[0]\n",
    "    prediction_proba = pipeline.predict_proba([sentence])[0]\n",
    "    proba = 0\n",
    "    if prediction_sentiment == '+':\n",
    "        proba = prediction_proba[0]\n",
    "    elif prediction_sentiment == '?':\n",
    "        proba = prediction_proba[1]\n",
    "    else:\n",
    "        proba = prediction_proba[2]\n",
    "    out_df.loc[len(out_df)] = [sentence, prediction_sentiment, proba]"
   ],
   "metadata": {
    "collapsed": false,
    "ExecuteTime": {
     "start_time": "2023-04-09T16:10:55.990951Z",
     "end_time": "2023-04-09T16:10:59.778301Z"
    }
   }
  },
  {
   "cell_type": "code",
   "execution_count": 54,
   "outputs": [
    {
     "data": {
      "text/plain": "                                              sentence sentiment  \\\n0    15.03.2022 обратился на горячую линию для закр...         +   \n1    Уже который год в ТКБ не решается \"глобальная ...         −   \n2                                          Добрый день         ?   \n3    Добрый день Сегодня, зайдя в свой личный кабин...         ?   \n4    Обслуживаюсь в Тинькофф пару лет, возникла жес...         +   \n..                                                 ...       ...   \n944  Отвратительный сервис и отношение к клиентам! ...         −   \n945  28.04.2022 обратилась в банк о возможности пер...         −   \n946  В начале 2021 года была акция по выплате 8% ке...         ?   \n947   Бездействие банка и некомпетентность сотрудников         −   \n948  Потрачено 5 часов чтобы произвести оплату за о...         −   \n\n     sentimentprob  \n0         0.482329  \n1         0.806846  \n2         0.504400  \n3         0.438347  \n4         0.539753  \n..             ...  \n944       0.726085  \n945       0.616162  \n946       0.490451  \n947       0.907294  \n948       0.485683  \n\n[949 rows x 3 columns]",
      "text/html": "<div>\n<style scoped>\n    .dataframe tbody tr th:only-of-type {\n        vertical-align: middle;\n    }\n\n    .dataframe tbody tr th {\n        vertical-align: top;\n    }\n\n    .dataframe thead th {\n        text-align: right;\n    }\n</style>\n<table border=\"1\" class=\"dataframe\">\n  <thead>\n    <tr style=\"text-align: right;\">\n      <th></th>\n      <th>sentence</th>\n      <th>sentiment</th>\n      <th>sentimentprob</th>\n    </tr>\n  </thead>\n  <tbody>\n    <tr>\n      <th>0</th>\n      <td>15.03.2022 обратился на горячую линию для закр...</td>\n      <td>+</td>\n      <td>0.482329</td>\n    </tr>\n    <tr>\n      <th>1</th>\n      <td>Уже который год в ТКБ не решается \"глобальная ...</td>\n      <td>−</td>\n      <td>0.806846</td>\n    </tr>\n    <tr>\n      <th>2</th>\n      <td>Добрый день</td>\n      <td>?</td>\n      <td>0.504400</td>\n    </tr>\n    <tr>\n      <th>3</th>\n      <td>Добрый день Сегодня, зайдя в свой личный кабин...</td>\n      <td>?</td>\n      <td>0.438347</td>\n    </tr>\n    <tr>\n      <th>4</th>\n      <td>Обслуживаюсь в Тинькофф пару лет, возникла жес...</td>\n      <td>+</td>\n      <td>0.539753</td>\n    </tr>\n    <tr>\n      <th>...</th>\n      <td>...</td>\n      <td>...</td>\n      <td>...</td>\n    </tr>\n    <tr>\n      <th>944</th>\n      <td>Отвратительный сервис и отношение к клиентам! ...</td>\n      <td>−</td>\n      <td>0.726085</td>\n    </tr>\n    <tr>\n      <th>945</th>\n      <td>28.04.2022 обратилась в банк о возможности пер...</td>\n      <td>−</td>\n      <td>0.616162</td>\n    </tr>\n    <tr>\n      <th>946</th>\n      <td>В начале 2021 года была акция по выплате 8% ке...</td>\n      <td>?</td>\n      <td>0.490451</td>\n    </tr>\n    <tr>\n      <th>947</th>\n      <td>Бездействие банка и некомпетентность сотрудников</td>\n      <td>−</td>\n      <td>0.907294</td>\n    </tr>\n    <tr>\n      <th>948</th>\n      <td>Потрачено 5 часов чтобы произвести оплату за о...</td>\n      <td>−</td>\n      <td>0.485683</td>\n    </tr>\n  </tbody>\n</table>\n<p>949 rows × 3 columns</p>\n</div>"
     },
     "execution_count": 54,
     "metadata": {},
     "output_type": "execute_result"
    }
   ],
   "source": [
    "out_df"
   ],
   "metadata": {
    "collapsed": false,
    "ExecuteTime": {
     "start_time": "2023-04-09T16:11:00.330396Z",
     "end_time": "2023-04-09T16:11:00.338480Z"
    }
   }
  },
  {
   "cell_type": "code",
   "execution_count": 56,
   "outputs": [],
   "source": [
    "out_df.to_csv('./out.csv')"
   ],
   "metadata": {
    "collapsed": false,
    "ExecuteTime": {
     "start_time": "2023-04-09T16:12:01.641911Z",
     "end_time": "2023-04-09T16:12:01.654528Z"
    }
   }
  },
  {
   "cell_type": "code",
   "execution_count": null,
   "outputs": [],
   "source": [],
   "metadata": {
    "collapsed": false
   }
  }
 ],
 "metadata": {
  "kernelspec": {
   "display_name": "Python 3",
   "language": "python",
   "name": "python3"
  },
  "language_info": {
   "codemirror_mode": {
    "name": "ipython",
    "version": 2
   },
   "file_extension": ".py",
   "mimetype": "text/x-python",
   "name": "python",
   "nbconvert_exporter": "python",
   "pygments_lexer": "ipython2",
   "version": "2.7.6"
  }
 },
 "nbformat": 4,
 "nbformat_minor": 0
}
